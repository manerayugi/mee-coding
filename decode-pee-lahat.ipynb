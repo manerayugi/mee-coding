{
 "cells": [
  {
   "cell_type": "code",
   "execution_count": 1,
   "metadata": {},
   "outputs": [],
   "source": [
    "import pandas as pd\n",
    "import numpy as np\n",
    "from func import binaryASCIItoText"
   ]
  },
  {
   "cell_type": "code",
   "execution_count": 2,
   "metadata": {},
   "outputs": [],
   "source": [
    "data = \"48 49 48 49 48 49 48 48 32 48 49 49 48 49 48 48 48 32 48 49 49 48 48 48 48 49 32 48 49 49 48 49 48 48 49 32 48 48 49 48 48 48 48 48 32 48 49 49 48 49 48 48 48 32 48 49 49 48 48 49 48 49 32 48 49 49 49 48 48 49 48 32 48 49 49 48 48 48 49 48 32 48 49 49 49 48 48 49 49\""
   ]
  },
  {
   "cell_type": "code",
   "execution_count": 3,
   "metadata": {},
   "outputs": [],
   "source": [
    "data_list = data.split()\n",
    "# data_list"
   ]
  },
  {
   "cell_type": "code",
   "execution_count": 4,
   "metadata": {},
   "outputs": [
    {
     "data": {
      "text/plain": [
       "'01010100 01101000 01100001 01101001 00100000 01101000 01100101 01110010 01100010 01110011'"
      ]
     },
     "execution_count": 4,
     "metadata": {},
     "output_type": "execute_result"
    }
   ],
   "source": [
    "# ASCII numbers to Character\n",
    "ascii2cha = ''\n",
    "for i in data_list:\n",
    "    ascii2cha += chr(int(i))\n",
    "ascii2cha"
   ]
  },
  {
   "cell_type": "code",
   "execution_count": 5,
   "metadata": {},
   "outputs": [
    {
     "name": "stdout",
     "output_type": "stream",
     "text": [
      "Thai herbs\n"
     ]
    }
   ],
   "source": [
    "# Convert ASCII to Text\n",
    "print(binaryASCIItoText(ascii2cha.replace(\" \", \"\")))"
   ]
  }
 ],
 "metadata": {
  "kernelspec": {
   "display_name": "ds",
   "language": "python",
   "name": "python3"
  },
  "language_info": {
   "codemirror_mode": {
    "name": "ipython",
    "version": 3
   },
   "file_extension": ".py",
   "mimetype": "text/x-python",
   "name": "python",
   "nbconvert_exporter": "python",
   "pygments_lexer": "ipython3",
   "version": "3.10.11"
  },
  "orig_nbformat": 4
 },
 "nbformat": 4,
 "nbformat_minor": 2
}
